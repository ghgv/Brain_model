{
 "cells": [
  {
   "cell_type": "code",
   "execution_count": 1,
   "metadata": {},
   "outputs": [],
   "source": [
    "import pandas as pd\n",
    "from sklearn.preprocessing import StandardScaler\n",
    "from sklearn.decomposition import PCA\n",
    "from sklearn.preprocessing import normalize\n",
    "import numpy as np\n",
    "from numpy import linalg as LA"
   ]
  },
  {
   "cell_type": "code",
   "execution_count": 2,
   "metadata": {},
   "outputs": [
    {
     "name": "stdout",
     "output_type": "stream",
     "text": [
      "   Age  Height  Weight  Name\n",
      "0   10     120      30  Bart\n",
      "1   14     123      45  Lisa\n",
      "2   11     123      33  Bart\n",
      "3   14     123      45  Lisa\n"
     ]
    }
   ],
   "source": [
    "# initialize list of lists\n",
    "data = [[10,120,30,'Bart'],  [ 14,123,45,\"Lisa\"],[ 11,123,33,\"Bart\"],[ 14,123,45,\"Lisa\"],]\n",
    "# Create the pandas DataFrame\n",
    "df = pd.DataFrame(data, columns = [ 'Age','Height',\"Weight\",'Name'])\n",
    "print(df)"
   ]
  },
  {
   "cell_type": "code",
   "execution_count": 3,
   "metadata": {},
   "outputs": [],
   "source": [
    "\n",
    "features = [ 'Age','Height',\"Weight\"]\n",
    "# Separating out the features\n",
    "x = df.loc[:, features].values\n",
    "# Separating out the target\n",
    "y = df.loc[:,['Name']].values\n",
    "# Standardizing the features\n",
    "x = StandardScaler().fit_transform(x)"
   ]
  },
  {
   "cell_type": "code",
   "execution_count": 4,
   "metadata": {},
   "outputs": [
    {
     "name": "stdout",
     "output_type": "stream",
     "text": [
      "[[-1.26025208 -1.73205081 -1.20740686]\n",
      " [ 0.98019606  0.57735027  0.98787834]\n",
      " [-0.70014004  0.57735027 -0.76834982]\n",
      " [ 0.98019606  0.57735027  0.98787834]]\n"
     ]
    }
   ],
   "source": [
    "print(x)"
   ]
  },
  {
   "cell_type": "code",
   "execution_count": 5,
   "metadata": {},
   "outputs": [],
   "source": [
    "\n",
    "pca = PCA(n_components=3)\n",
    "principalComponents = pca.fit_transform(x)\n",
    "principalDf = pd.DataFrame(data = principalComponents\n",
    "             , columns = ['principal component 1', 'principal component 2','principal component 3'])"
   ]
  },
  {
   "cell_type": "code",
   "execution_count": 6,
   "metadata": {},
   "outputs": [],
   "source": [
    "\n",
    "#pca = PCA(n_components=1)\n",
    "#principalComponents = pca.fit_transform(x)\n",
    "#principalDf = pd.DataFrame(data = principalComponents\n",
    "#             , columns = ['principal component 1'])"
   ]
  },
  {
   "cell_type": "code",
   "execution_count": 7,
   "metadata": {},
   "outputs": [
    {
     "data": {
      "text/plain": [
       "array([[ 2.39597258e+00, -5.52613803e-01,  4.50175239e-17],\n",
       "       [-1.48688149e+00, -2.43320155e-01,  8.10401546e-17],\n",
       "       [ 5.77790399e-01,  1.03925411e+00,  4.50175239e-17],\n",
       "       [-1.48688149e+00, -2.43320155e-01,  8.99489323e-18]])"
      ]
     },
     "execution_count": 7,
     "metadata": {},
     "output_type": "execute_result"
    }
   ],
   "source": [
    "finalDf = pd.concat([principalDf, df[['Name']]], axis = 1)\n",
    "principalComponents"
   ]
  },
  {
   "cell_type": "code",
   "execution_count": 8,
   "metadata": {},
   "outputs": [
    {
     "name": "stdout",
     "output_type": "stream",
     "text": [
      "   principal component 1  principal component 2  principal component 3  Name\n",
      "0               2.395973              -0.552614           4.501752e-17  Bart\n",
      "1              -1.486881              -0.243320           8.104015e-17  Lisa\n",
      "2               0.577790               1.039254           4.501752e-17  Bart\n",
      "3              -1.486881              -0.243320           8.994893e-18  Lisa\n"
     ]
    }
   ],
   "source": [
    "print(finalDf)"
   ]
  },
  {
   "cell_type": "code",
   "execution_count": 9,
   "metadata": {},
   "outputs": [
    {
     "name": "stdout",
     "output_type": "stream",
     "text": [
      "[[-0.60392893 -0.52717012 -0.59779722]\n",
      " [-0.33793054  0.84863181 -0.40697297]\n",
      " [ 0.72185372 -0.04376881 -0.69066019]]\n"
     ]
    }
   ],
   "source": [
    "#pca.explained_variance_ratio_\n",
    "#print(pca.singular_values_)\n",
    "print(pca.components_)"
   ]
  },
  {
   "cell_type": "code",
   "execution_count": 10,
   "metadata": {},
   "outputs": [
    {
     "data": {
      "text/plain": [
       "array([8.74679956e-01, 1.25320044e-01, 8.91797474e-34])"
      ]
     },
     "execution_count": 10,
     "metadata": {},
     "output_type": "execute_result"
    }
   ],
   "source": [
    "pca.explained_variance_ratio_"
   ]
  },
  {
   "cell_type": "code",
   "execution_count": 11,
   "metadata": {},
   "outputs": [],
   "source": [
    "###############  Ojas ####################"
   ]
  },
  {
   "cell_type": "code",
   "execution_count": 12,
   "metadata": {},
   "outputs": [
    {
     "name": "stdout",
     "output_type": "stream",
     "text": [
      "[[ 10 120  30]\n",
      " [ 14 123  45]\n",
      " [ 11 123  33]\n",
      " [ 14 123  45]]\n"
     ]
    }
   ],
   "source": [
    "nb_samples =4\n",
    "df=df.loc[:, df.columns.drop('Name')]\n",
    "samples=df.to_numpy()\n",
    "print(samples)"
   ]
  },
  {
   "cell_type": "code",
   "execution_count": 13,
   "metadata": {},
   "outputs": [
    {
     "name": "stdout",
     "output_type": "stream",
     "text": [
      "[[-1.26025208 -1.73205081 -1.20740686]\n",
      " [ 0.98019606  0.57735027  0.98787834]\n",
      " [-0.70014004  0.57735027 -0.76834982]\n",
      " [ 0.98019606  0.57735027  0.98787834]]\n"
     ]
    }
   ],
   "source": [
    "norm1 = StandardScaler().fit_transform(samples)\n",
    "print (norm1)"
   ]
  },
  {
   "cell_type": "code",
   "execution_count": 14,
   "metadata": {},
   "outputs": [
    {
     "name": "stdout",
     "output_type": "stream",
     "text": [
      "[-0.34878339, -0.9874051, 0.87048954]\n"
     ]
    }
   ],
   "source": [
    "weights = [-0.34878339,-0.9874051, 0.87048954]\n",
    "#weights =2.0 * (np.random.random((1,3)) - 0.5)\n",
    "#weights=weights.tolist()\n",
    "print(weights)\n"
   ]
  },
  {
   "cell_type": "code",
   "execution_count": 15,
   "metadata": {},
   "outputs": [],
   "source": [
    "def update_data():\n",
    "    global weights, presented_example, weights_history, lrate_history,norm1\n",
    "    index_sample = np.random.randint(0,nb_samples)\n",
    "    output = np.dot(np.transpose(norm1[index_sample]) , weights) \n",
    "    weights = weights + update_data.lrate * ( np.transpose(norm1[index_sample])*output - np.transpose(weights)*output*output)\n",
    "    update_data.epoch = update_data.epoch + 1\n",
    "    update_data.lrate = update_data.initial_lrate / (float(update_data.epoch)/nb_samples+1.0)\n",
    "    return weights"
   ]
  },
  {
   "cell_type": "code",
   "execution_count": 16,
   "metadata": {},
   "outputs": [],
   "source": [
    "update_data.epoch = 1\n",
    "initial_lrate = 0.1\n",
    "update_data.maxepoch = 1 * nb_samples # 10 presentations of all the samples\n",
    "update_data.initial_lrate = initial_lrate\n",
    "update_data.lrate = update_data.initial_lrate"
   ]
  },
  {
   "cell_type": "code",
   "execution_count": 17,
   "metadata": {},
   "outputs": [
    {
     "name": "stdout",
     "output_type": "stream",
     "text": [
      "#########norm1 ##############\n",
      "[[-1.26025208 -1.73205081 -1.20740686]\n",
      " [ 0.98019606  0.57735027  0.98787834]\n",
      " [-0.70014004  0.57735027 -0.76834982]\n",
      " [ 0.98019606  0.57735027  0.98787834]]\n",
      "######## out #########\n",
      "[ 2.39544831 -1.48711117  0.57877403 -1.48711117]\n",
      "######## weigths #########\n",
      "[-0.60434055 -0.52636087 -0.59809425]\n",
      "######### y ##############\n",
      "[[-1.44766655 -1.26087026 -1.43270385]\n",
      " [ 0.89872158  0.78275714  0.88943264]\n",
      " [-0.34977662 -0.30464401 -0.34616142]\n",
      " [ 0.89872158  0.78275714  0.88943264]]\n",
      "######### norm1 ##############\n",
      "[[-1.26025208 -1.73205081 -1.20740686]\n",
      " [ 0.98019606  0.57735027  0.98787834]\n",
      " [-0.70014004  0.57735027 -0.76834982]\n",
      " [ 0.98019606  0.57735027  0.98787834]]\n",
      "######### 0 ##############\n",
      "######### norm1.. ##############\n",
      "[[ 0.18741448 -0.47118054  0.22529699]\n",
      " [ 0.08147447 -0.20540687  0.0984457 ]\n",
      " [-0.35036342  0.88199428 -0.4221884 ]\n",
      " [ 0.08147447 -0.20540687  0.0984457 ]]\n",
      "######## out #########\n",
      "[ 0.55488099  0.24191239 -1.03870577  0.24191239]\n",
      "######## weigths #########\n",
      "[ 0.33620109 -0.84925184  0.40711195]\n",
      "######### y ##############\n",
      "[[ 0.18655159 -0.4712337   0.22589868]\n",
      " [ 0.08133121 -0.20544454  0.09848542]\n",
      " [-0.34921401  0.88212279 -0.42286953]\n",
      " [ 0.08133121 -0.20544454  0.09848542]]\n",
      "######### norm1 ##############\n",
      "[[ 0.18741448 -0.47118054  0.22529699]\n",
      " [ 0.08147447 -0.20540687  0.0984457 ]\n",
      " [-0.35036342  0.88199428 -0.4221884 ]\n",
      " [ 0.08147447 -0.20540687  0.0984457 ]]\n",
      "######### 1 ##############\n",
      "######### norm1.. ##############\n",
      "[[-0.18655159  0.4712337  -0.22589868]\n",
      " [-0.08133121  0.20544454 -0.09848542]\n",
      " [ 0.34921401 -0.88212279  0.42286953]\n",
      " [-0.08133121  0.20544454 -0.09848542]]\n",
      "######## out #########\n",
      "[-0.55487637 -0.24191037  1.03869712 -0.24191037]\n",
      "######## weigths #########\n",
      "[ 0.33272585 -0.84960588  0.40922286]\n",
      "######### y ##############\n",
      "[[-0.18462171  0.47142623 -0.22706809]\n",
      " [-0.08048984  0.20552848 -0.09899525]\n",
      " [ 0.34560138 -0.88248318  0.4250586 ]\n",
      " [-0.08048984  0.20552848 -0.09899525]]\n",
      "######### norm1 ##############\n",
      "[[-0.18655159  0.4712337  -0.22589868]\n",
      " [-0.08133121  0.20544454 -0.09848542]\n",
      " [ 0.34921401 -0.88212279  0.42286953]\n",
      " [-0.08133121  0.20544454 -0.09848542]]\n",
      "######### norm1.. ##############\n",
      "[[-0.18655159  0.4712337  -0.22589868]\n",
      " [-0.08133121  0.20544454 -0.09848542]\n",
      " [ 0.34921401 -0.88212279  0.42286953]\n",
      " [-0.08133121  0.20544454 -0.09848542]]\n",
      "######## out #########\n",
      "[-0.55488063 -0.24191223  1.0387051  -0.24191223]\n",
      "######## weigths #########\n",
      "[ 0.33523336 -0.84935191  0.40770078]\n",
      "######### y ##############\n",
      "[[-0.1860145   0.47128892 -0.22622527]\n",
      " [-0.08109705  0.20546862 -0.09862781]\n",
      " [ 0.3482086  -0.88222616  0.42348088]\n",
      " [-0.08109705  0.20546862 -0.09862781]]\n",
      "######### norm1 ##############\n",
      "[[-0.18655159  0.4712337  -0.22589868]\n",
      " [-0.08133121  0.20544454 -0.09848542]\n",
      " [ 0.34921401 -0.88212279  0.42286953]\n",
      " [-0.08133121  0.20544454 -0.09848542]]\n",
      "######### 2 ##############\n",
      "######### norm1.. ##############\n",
      "[[-1.39997417e-03 -1.08381662e-04  9.28275207e-04]\n",
      " [-3.77422760e-04 -6.17497375e-05  1.82102285e-04]\n",
      " [ 2.15481969e-03  2.31881137e-04 -1.29247978e-03]\n",
      " [-3.77422760e-04 -6.17497375e-05  1.82102285e-04]]\n",
      "[[-0.6043405512769215, -0.5263608739044732, -0.5980942471758325], [0.33620108995882225, -0.8492518415731589, 0.4071119461463858], [0.3327258526287525, -0.8496058843621804, 0.4092228589040779], [0.3352333637992863, -0.8493519086078609, 0.4077007813826206]]\n"
     ]
    }
   ],
   "source": [
    "w=weights\n",
    "new_x=norm1\n",
    "print(\"#########norm1 ##############\")\n",
    "print(norm1)\n",
    "\n",
    "def iteraciones(k):\n",
    "    global norm1,w,weights,weights0,new_x\n",
    "    for i in range(k):\n",
    "        #while LA.norm(weights)<0.99999: \n",
    "        for j in range(100000):\n",
    "            weights=update_data()\n",
    "        weights=update_data()    \n",
    "        weights=weights/LA.norm(weights) #Avoid overflow\n",
    "        w.append(weights.tolist())\n",
    "        out = np.dot(norm1 , weights)\n",
    "        print(\"######## out #########\")\n",
    "        print(out)\n",
    "        print(\"######## weigths #########\")\n",
    "        print(weights)\n",
    "        y = np.outer(out,weights)\n",
    "        print(\"######### y ##############\")\n",
    "        print(y)\n",
    "        print(\"######### norm1 ##############\")\n",
    "        print(norm1)\n",
    "        if i==0:\n",
    "            print(\"######### 0 ##############\")\n",
    "            norm1=norm1-y\n",
    "            norm2=norm1.copy()\n",
    "        if i==1:\n",
    "            print(\"######### 1 ##############\")\n",
    "            norm1=norm1-norm2-y\n",
    "            norm3=norm1.copy()\n",
    "        if i==3:\n",
    "            print(\"######### 2 ##############\")\n",
    "            norm1=norm1-norm2-norm3-y\n",
    "            \n",
    "            \n",
    "        print(\"######### norm1.. ##############\")\n",
    "        print(norm1)     \n",
    "        update_data.epoch = 1\n",
    "        initial_lrate = 0.4\n",
    "        update_data.maxepoch = 1 * nb_samples # 10 presentations of all the samples\n",
    "        update_data.initial_lrate = initial_lrate\n",
    "        update_data.lrate = update_data.initial_lrate\n",
    "        weights = [-0.34878339,-0.9874051, 0.87048954] #Fix for randon weights\n",
    "    #print(w)   \n",
    "iteraciones(4)\n",
    "w.pop(0)\n",
    "w.pop(0)\n",
    "w.pop(0)\n",
    "print(w)"
   ]
  },
  {
   "cell_type": "code",
   "execution_count": 691,
   "metadata": {},
   "outputs": [
    {
     "name": "stdout",
     "output_type": "stream",
     "text": [
      "[[-0.6042254257110072, -0.5269719146924157, -0.5976723484065174], [0.3356296847650361, -0.8489738569647718, 0.4081618611468762], [-0.2561457825058316, -0.7250892466719311, 0.6392455885379317]]\n"
     ]
    }
   ],
   "source": [
    "print(w)"
   ]
  },
  {
   "cell_type": "code",
   "execution_count": 692,
   "metadata": {},
   "outputs": [
    {
     "data": {
      "text/plain": [
       "0.0006423316884973678"
      ]
     },
     "execution_count": 692,
     "metadata": {},
     "output_type": "execute_result"
    }
   ],
   "source": [
    "np.dot(w[0],w[1])"
   ]
  },
  {
   "cell_type": "code",
   "execution_count": 693,
   "metadata": {},
   "outputs": [
    {
     "data": {
      "text/plain": [
       "0.7905273553019969"
      ]
     },
     "execution_count": 693,
     "metadata": {},
     "output_type": "execute_result"
    }
   ],
   "source": [
    "np.dot(w[1],w[2])"
   ]
  },
  {
   "cell_type": "code",
   "execution_count": 454,
   "metadata": {},
   "outputs": [
    {
     "data": {
      "text/plain": [
       "1.0"
      ]
     },
     "execution_count": 454,
     "metadata": {},
     "output_type": "execute_result"
    }
   ],
   "source": [
    "LA.norm(w[2]) "
   ]
  },
  {
   "cell_type": "code",
   "execution_count": null,
   "metadata": {},
   "outputs": [],
   "source": []
  }
 ],
 "metadata": {
  "kernelspec": {
   "display_name": "Python 3",
   "language": "python",
   "name": "python3"
  },
  "language_info": {
   "codemirror_mode": {
    "name": "ipython",
    "version": 3
   },
   "file_extension": ".py",
   "mimetype": "text/x-python",
   "name": "python",
   "nbconvert_exporter": "python",
   "pygments_lexer": "ipython3",
   "version": "3.8.7"
  }
 },
 "nbformat": 4,
 "nbformat_minor": 4
}
