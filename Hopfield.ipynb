{
 "cells": [
  {
   "cell_type": "code",
   "execution_count": 1,
   "metadata": {},
   "outputs": [],
   "source": [
    "import numpy as np\n",
    "import copy\n",
    "from PIL import Image\n",
    "from numpy import linalg as LA\n"
   ]
  },
  {
   "cell_type": "code",
   "execution_count": 2,
   "metadata": {},
   "outputs": [],
   "source": [
    "class hopfield:\n",
    "    def __init__(self,x1):\n",
    "        (self.size1,)=x1.shape\n",
    "        print(self.size1)\n",
    "        self.L=np.zeros((self.size1,self.size1))\n",
    "        self.W1=np.outer(x1,x1)\n",
    "        self.W3=self.W1\n",
    "        self.Wp=self.W1\n",
    "        self.Test=self.Wp\n",
    "        print(self.Wp)\n",
    "        print(\"Norm %f \" % LA.norm(self.Wp))\n",
    "        \n",
    "    def size(self):\n",
    "        print(self.size1)\n",
    "    def update(self,x2):\n",
    "        W2=np.outer(x2,x2)\n",
    "        (a,)=x2.shape\n",
    "        if a != self.size1:\n",
    "            print(\"Wrong input vector\")\n",
    "        W3=self.Wp+W2\n",
    "        print(\"W3:\")\n",
    "        print(W3)\n",
    "        self.L=W3.diagonal()*np.identity(self.size1)\n",
    "        print(\"WL:\")\n",
    "        print(self.L)\n",
    "        self.Wp=W3-self.L\n",
    "        print(\"Wp:\")\n",
    "        print(self.Wp)\n",
    "        print(\"Norm %f \" % LA.norm(self.Wp))\n",
    "    def forget(self,input):\n",
    "        x2=input #self.convert_to_flat_inverted(input)\n",
    "        (a,)=input.shape\n",
    "        print(a)\n",
    "        print(\"x2:\")\n",
    "        print(x2)\n",
    "        W2=np.outer(x2,x2)\n",
    "        if a != self.size1:\n",
    "            print(\"Wrong input vector\")\n",
    "        W3=self.Wp+self.L\n",
    "        #print(\"W3:\")\n",
    "        #print(W3)\n",
    "        #self.L=W3.diagonal()*np.identity(self.size1)\n",
    "        #print(\"WL:\")\n",
    "        #print(L)\n",
    "        self.Wp=W3-W2\n",
    "        print(\"Wp:\")\n",
    "        print(self.Wp)\n",
    "        print(\"Norm %f \" % LA.norm(self.Wp))\n",
    "    def convert_to_flat_inverted(self,input):\n",
    "        (a,)=input.shape\n",
    "        if a != self.size1:\n",
    "            print(\"Wrong input at convert to flat_inverted\")\n",
    "        with np.nditer(input, op_flags=['readwrite']) as it:\n",
    "            for x in it:\n",
    "         #       print(x, end = '')\n",
    "                if x>=1:\n",
    "                    x[...] = -1\n",
    "         #          print(\"L= %i \" % x)\n",
    "                else:\n",
    "                    x[...] = 1\n",
    "          #         print(\"L= %i \" % x)\n",
    "        \n",
    "        return input\n",
    "    def query(self,input):\n",
    "        (a,)=input.shape\n",
    "        if a != self.size1:\n",
    "            print(\"Wrong input query\")\n",
    "        Test=self.Wp.dot(input)\n",
    "        old=copy.deepcopy(Test)\n",
    "        dist=100000\n",
    "        while(dist>0.1):\n",
    "            with np.nditer(Test, op_flags=['readwrite']) as it:\n",
    "                for x in it:\n",
    "                    if x>0:\n",
    "                        x[...] = 1\n",
    "                    else:\n",
    "                        x[...] = -1\n",
    "                print(old)\n",
    "                print(Test)\n",
    "                dist = np.linalg.norm(old-Test)\n",
    "                print(\"Distancia: %f \" %dist)\n",
    "                old=copy.deepcopy(Test)\n",
    "                Test=self.Wp.dot(Test)\n",
    "        print(old)\n",
    "    \n",
    "    def W_p (self):\n",
    "        W3=self.Wp\n",
    "        print(\"Wp:\")\n",
    "        print(W3) \n",
    "        w, v = LA.eig(W3)\n",
    "        print(\"w:\")\n",
    "        print(w)\n",
    "        print(\"v:\")\n",
    "        print(v)"
   ]
  },
  {
   "cell_type": "code",
   "execution_count": 3,
   "metadata": {},
   "outputs": [],
   "source": [
    "class HP:\n",
    "    def __init__ (self,image):\n",
    "        x1=self.convert_to_flat(image)\n",
    "        (self.size1,)=x1.shape\n",
    "        print(\"Size\")\n",
    "        print(self.size1)\n",
    "        self.L=np.zeros((self.size1,self.size1))\n",
    "        self.W1=np.outer(x1,x1)\n",
    "        self.W3=self.W1\n",
    "        self.Wp=self.W1\n",
    "        #print(\"Wp\")\n",
    "        #print(self.Wp)\n",
    "        print(\"Norm %f \" % LA.norm(self.Wp))\n",
    "\n",
    "    def convert_to_flat(self,image):\n",
    "        #it converst to 1 or -1 images\n",
    "        img = Image.open(image).convert('L')\n",
    "        #img = img.convert('1')\n",
    "        newsize = (100, 100)\n",
    "        img = img.resize(newsize)  \n",
    "        arr = np.array(img)\n",
    "        self.shape = arr.shape\n",
    "        flat_arr = np.ndarray.flatten(arr).astype(int)\n",
    "        vector = np.matrix(flat_arr)\n",
    "        with np.nditer(flat_arr, op_flags=['readwrite']) as it:\n",
    "            for x in it:\n",
    "                #print(x, end = '')\n",
    "                if x<127:\n",
    "                    x[...] = -1\n",
    "                #    print(\"bin - = %i \" % x)\n",
    "                else:\n",
    "                    x[...] =  1\n",
    "                #    print(\"bin= + =%i \" % x)\n",
    "        \n",
    "        vector2 = copy.deepcopy(flat_arr)\n",
    "        vector2.astype(np.int8)\n",
    "        #print(\"Binario\")\n",
    "        with np.nditer(vector2, op_flags=['readwrite']) as it:\n",
    "            for x in it:\n",
    "         #       print(x, end = '')\n",
    "                if x>=1:\n",
    "                    x[...] = 255\n",
    "          #          print(\"L= %i \" % x)\n",
    "                else:\n",
    "                    x[...] = 0\n",
    "           #         print(\"L= %i \" % x)\n",
    "        arr2 = np.asarray(vector2).reshape(self.shape).astype(np.int8)\n",
    "        # make a PIL image\n",
    "        img2 = Image.fromarray(arr2, 'L')\n",
    "        img2.show()\n",
    "        return flat_arr\n",
    "    def convert_to_flat_inverted(self,image):\n",
    "        #it converst to 1 or -1 images\n",
    "        img = Image.open(image).convert('L')\n",
    "        #img = img.convert('1')\n",
    "        newsize = (100, 100)\n",
    "        img = img.resize(newsize)  \n",
    "        arr = np.array(img)\n",
    "        self.shape = arr.shape\n",
    "        flat_arr = np.ndarray.flatten(arr).astype(int)\n",
    "        vector = np.matrix(flat_arr)\n",
    "        with np.nditer(flat_arr, op_flags=['readwrite']) as it:\n",
    "            for x in it:\n",
    "                #print(x, end = '')\n",
    "                if x<127:\n",
    "                    x[...] = 1\n",
    "                #    print(\"bin - = %i \" % x)\n",
    "                else:\n",
    "                    x[...] =  -1\n",
    "                #    print(\"bin= + =%i \" % x)\n",
    "        \n",
    "        vector2 = copy.deepcopy(flat_arr)\n",
    "        vector2.astype(np.int8)\n",
    "        #print(\"Binario\")\n",
    "        with np.nditer(vector2, op_flags=['readwrite']) as it:\n",
    "            for x in it:\n",
    "         #       print(x, end = '')\n",
    "                if x>=1:\n",
    "                    x[...] = 255\n",
    "          #          print(\"L= %i \" % x)\n",
    "                else:\n",
    "                    x[...] = 0\n",
    "           #         print(\"L= %i \" % x)\n",
    "        arr2 = np.asarray(vector2).reshape(self.shape).astype(np.int8)\n",
    "        # make a PIL image\n",
    "        img2 = Image.fromarray(arr2, 'L')\n",
    "        img2.show()\n",
    "        return flat_arr\n",
    "\n",
    "    def size(self):\n",
    "        print(self.size1)\n",
    "    def update(self,image):\n",
    "        x2=self.convert_to_flat(image)\n",
    "        (a,)=x2.shape\n",
    "        print(a)\n",
    "        W2=np.outer(x2,x2)\n",
    "        if a != self.size1:\n",
    "            print(\"Wrong input vector\")\n",
    "        W3=self.Wp+W2\n",
    "        #print(\"W3:\")\n",
    "        #print(W3)\n",
    "        self.L=W3.diagonal()*np.identity(self.size1)\n",
    "        #print(\"WL:\")\n",
    "        #print(L)\n",
    "        self.Wp=W3-self.L\n",
    "        #print(\"Wp:\")\n",
    "        #print(self.Wp)\n",
    "        print(\"Norm %f \" % LA.norm(self.Wp))\n",
    "    def forget(self,image):\n",
    "        x2=self.convert_to_flat(image)\n",
    "        (a,)=input.shape\n",
    "        print(a)\n",
    "        print(\"x2:\")\n",
    "        print(x2)\n",
    "        W2=np.outer(x2,x2)\n",
    "        if a != self.size1:\n",
    "            print(\"Wrong input vector: \" )\n",
    "        W3=self.Wp+self.L\n",
    "        #print(\"W3:\")\n",
    "        #print(W3)\n",
    "        #self.L=W3.diagonal()*np.identity(self.size1)\n",
    "        #print(\"WL:\")\n",
    "        #print(L)\n",
    "        self.Wp=W3-W2\n",
    "        print(\"Wp:\")\n",
    "        print(self.Wp)\n",
    "        print(\"Norm %f \" % LA.norm(self.Wp))\n",
    "    def query(self,image):\n",
    "        input=self.convert_to_flat(image)\n",
    "        (a,)=input.shape\n",
    "        print(\"Size:\")\n",
    "        print(a)\n",
    "        if a != self.size1:\n",
    "            print(\"Wrong input query\")\n",
    "        self.Test=self.Wp.dot(input)\n",
    "        dist=1000000\n",
    "        old=input\n",
    "        while(dist>0.1):\n",
    "            with np.nditer(self.Test, op_flags=['readwrite']) as it:\n",
    "                for x in it:\n",
    "                    if x>0:\n",
    "                        x[...] = 1\n",
    "                    else:\n",
    "                        x[...] = -1\n",
    "            print(self.Test)\n",
    "            dist = np.linalg.norm(old-self.Test)\n",
    "            print(\"Distancia: %f \" %dist)\n",
    "            old=copy.deepcopy(self.Test)\n",
    "            self.Test=self.Wp.dot(self.Test)\n",
    "        self.Test=copy.deepcopy(old)    \n",
    "            \n",
    "        with np.nditer(self.Test, op_flags=['readwrite']) as it:\n",
    "            for x in it:\n",
    "                if x>0:\n",
    "                    x[...] = 255\n",
    "                else:\n",
    "                    x[...] = 0\n",
    "        arr2 = np.asarray(self.Test).reshape(self.shape).astype(np.int8)\n",
    "        # make a PIL image\n",
    "        img2 = Image.fromarray(arr2, 'L')\n",
    "        img2.show()\n",
    "    def W_p (self):\n",
    "        W3=self.Wp\n",
    "        print(\"Wp:\")\n",
    "        print(W3) \n",
    "        w, v = LA.eig(W3)\n",
    "        print(\"w:\")\n",
    "        print(w)\n",
    "        \n",
    "        "
   ]
  },
  {
   "cell_type": "code",
   "execution_count": 83,
   "metadata": {},
   "outputs": [
    {
     "name": "stdout",
     "output_type": "stream",
     "text": [
      "Size\n",
      "10000\n",
      "Norm 10000.000000 \n"
     ]
    }
   ],
   "source": [
    "a=HP(\"Homer.png\")"
   ]
  },
  {
   "cell_type": "code",
   "execution_count": 5,
   "metadata": {
    "scrolled": true
   },
   "outputs": [
    {
     "name": "stdout",
     "output_type": "stream",
     "text": [
      "Wp:\n",
      "[[1 1 1 ... 1 1 1]\n",
      " [1 1 1 ... 1 1 1]\n",
      " [1 1 1 ... 1 1 1]\n",
      " ...\n",
      " [1 1 1 ... 1 1 1]\n",
      " [1 1 1 ... 1 1 1]\n",
      " [1 1 1 ... 1 1 1]]\n",
      "w:\n",
      "[ 1.00000000e+004+0.00000000e+00j  3.43445280e-012+0.00000000e+00j\n",
      " -4.42572934e-013+2.49190397e-12j ... -3.77522466e-275+0.00000000e+00j\n",
      "  9.31839699e-277+0.00000000e+00j -4.79288491e-278+0.00000000e+00j]\n"
     ]
    }
   ],
   "source": [
    "a.W_p()"
   ]
  },
  {
   "cell_type": "code",
   "execution_count": 86,
   "metadata": {},
   "outputs": [
    {
     "name": "stdout",
     "output_type": "stream",
     "text": [
      "10000\n",
      "Norm 34577.473361 \n"
     ]
    }
   ],
   "source": [
    "a.update(\"Bart.png\")\n",
    "\n"
   ]
  },
  {
   "cell_type": "code",
   "execution_count": null,
   "metadata": {},
   "outputs": [],
   "source": [
    "a.forget(\"Bart.png\")"
   ]
  },
  {
   "cell_type": "code",
   "execution_count": 7,
   "metadata": {},
   "outputs": [
    {
     "name": "stdout",
     "output_type": "stream",
     "text": [
      "Wp:\n",
      "[[1 1 1 ... 1 1 1]\n",
      " [1 1 1 ... 1 1 1]\n",
      " [1 1 1 ... 1 1 1]\n",
      " ...\n",
      " [1 1 1 ... 1 1 1]\n",
      " [1 1 1 ... 1 1 1]\n",
      " [1 1 1 ... 1 1 1]]\n",
      "w:\n",
      "[ 1.00000000e+004+0.00000000e+00j  3.43445280e-012+0.00000000e+00j\n",
      " -4.42572934e-013+2.49190397e-12j ... -3.77522466e-275+0.00000000e+00j\n",
      "  9.31839699e-277+0.00000000e+00j -4.79288491e-278+0.00000000e+00j]\n"
     ]
    }
   ],
   "source": [
    "a.W_p()"
   ]
  },
  {
   "cell_type": "code",
   "execution_count": 6,
   "metadata": {},
   "outputs": [
    {
     "ename": "AttributeError",
     "evalue": "'function' object has no attribute 'shape'",
     "output_type": "error",
     "traceback": [
      "\u001b[1;31m---------------------------------------------------------------------------\u001b[0m",
      "\u001b[1;31mAttributeError\u001b[0m                            Traceback (most recent call last)",
      "\u001b[1;32m<ipython-input-6-c57df297866b>\u001b[0m in \u001b[0;36m<module>\u001b[1;34m\u001b[0m\n\u001b[1;32m----> 1\u001b[1;33m \u001b[0ma\u001b[0m\u001b[1;33m.\u001b[0m\u001b[0mforget\u001b[0m\u001b[1;33m(\u001b[0m\u001b[1;34m\"Homer.png\"\u001b[0m\u001b[1;33m)\u001b[0m\u001b[1;33m\u001b[0m\u001b[1;33m\u001b[0m\u001b[0m\n\u001b[0m",
      "\u001b[1;32m<ipython-input-3-2e884bc93d89>\u001b[0m in \u001b[0;36mforget\u001b[1;34m(self, image)\u001b[0m\n\u001b[0;32m    109\u001b[0m     \u001b[1;32mdef\u001b[0m \u001b[0mforget\u001b[0m\u001b[1;33m(\u001b[0m\u001b[0mself\u001b[0m\u001b[1;33m,\u001b[0m\u001b[0mimage\u001b[0m\u001b[1;33m)\u001b[0m\u001b[1;33m:\u001b[0m\u001b[1;33m\u001b[0m\u001b[1;33m\u001b[0m\u001b[0m\n\u001b[0;32m    110\u001b[0m         \u001b[0mx2\u001b[0m\u001b[1;33m=\u001b[0m\u001b[0mself\u001b[0m\u001b[1;33m.\u001b[0m\u001b[0mconvert_to_flat\u001b[0m\u001b[1;33m(\u001b[0m\u001b[0mimage\u001b[0m\u001b[1;33m)\u001b[0m\u001b[1;33m\u001b[0m\u001b[1;33m\u001b[0m\u001b[0m\n\u001b[1;32m--> 111\u001b[1;33m         \u001b[1;33m(\u001b[0m\u001b[0ma\u001b[0m\u001b[1;33m,\u001b[0m\u001b[1;33m)\u001b[0m\u001b[1;33m=\u001b[0m\u001b[0minput\u001b[0m\u001b[1;33m.\u001b[0m\u001b[0mshape\u001b[0m\u001b[1;33m\u001b[0m\u001b[1;33m\u001b[0m\u001b[0m\n\u001b[0m\u001b[0;32m    112\u001b[0m         \u001b[0mprint\u001b[0m\u001b[1;33m(\u001b[0m\u001b[0ma\u001b[0m\u001b[1;33m)\u001b[0m\u001b[1;33m\u001b[0m\u001b[1;33m\u001b[0m\u001b[0m\n\u001b[0;32m    113\u001b[0m         \u001b[0mprint\u001b[0m\u001b[1;33m(\u001b[0m\u001b[1;34m\"x2:\"\u001b[0m\u001b[1;33m)\u001b[0m\u001b[1;33m\u001b[0m\u001b[1;33m\u001b[0m\u001b[0m\n",
      "\u001b[1;31mAttributeError\u001b[0m: 'function' object has no attribute 'shape'"
     ]
    }
   ],
   "source": [
    "a.forget(\"Homer.png\")"
   ]
  },
  {
   "cell_type": "code",
   "execution_count": null,
   "metadata": {},
   "outputs": [],
   "source": [
    "a.update(\"lisa.png\")\n",
    "a.update(\"lisa.png\")\n",
    "a.update(\"lisa.png\")\n",
    "a.update(\"lisa.png\")\n"
   ]
  },
  {
   "cell_type": "code",
   "execution_count": 76,
   "metadata": {},
   "outputs": [
    {
     "name": "stdout",
     "output_type": "stream",
     "text": [
      "10000\n",
      "Norm 23904.210173 \n"
     ]
    }
   ],
   "source": [
    "a.update(\"lisa.png\")"
   ]
  },
  {
   "cell_type": "code",
   "execution_count": 87,
   "metadata": {},
   "outputs": [
    {
     "name": "stdout",
     "output_type": "stream",
     "text": [
      "Size:\n",
      "10000\n",
      "[-1. -1. -1. ... -1. -1. -1.]\n",
      "Distancia: 39.293765 \n",
      "[-1. -1. -1. ... -1. -1. -1.]\n",
      "Distancia: 0.000000 \n"
     ]
    }
   ],
   "source": [
    "a.query(\"Bart2.png\")"
   ]
  },
  {
   "cell_type": "code",
   "execution_count": 80,
   "metadata": {},
   "outputs": [
    {
     "name": "stdout",
     "output_type": "stream",
     "text": [
      "Size:\n",
      "10000\n",
      "[1. 1. 1. ... 1. 1. 1.]\n",
      "Distancia: 57.236352 \n",
      "[1. 1. 1. ... 1. 1. 1.]\n",
      "Distancia: 0.000000 \n"
     ]
    }
   ],
   "source": [
    "a.query(\"lisa.png\")"
   ]
  },
  {
   "cell_type": "code",
   "execution_count": 81,
   "metadata": {},
   "outputs": [
    {
     "name": "stdout",
     "output_type": "stream",
     "text": [
      "Size:\n",
      "10000\n",
      "[1. 1. 1. ... 1. 1. 1.]\n",
      "Distancia: 86.394444 \n",
      "[1. 1. 1. ... 1. 1. 1.]\n",
      "Distancia: 0.000000 \n"
     ]
    }
   ],
   "source": [
    "a.query(\"Bart2.png\")"
   ]
  },
  {
   "cell_type": "code",
   "execution_count": 78,
   "metadata": {},
   "outputs": [
    {
     "name": "stdout",
     "output_type": "stream",
     "text": [
      "10000\n",
      "Norm 32809.163964 \n",
      "10000\n",
      "Norm 42207.241274 \n",
      "10000\n",
      "Norm 51830.890326 \n",
      "10000\n",
      "Norm 61574.435994 \n",
      "10000\n",
      "Norm 71388.802651 \n"
     ]
    }
   ],
   "source": [
    "a.update(\"Homer.png\")\n",
    "a.update(\"Homer.png\")\n",
    "a.update(\"Homer.png\")\n",
    "a.update(\"Homer.png\")\n",
    "a.update(\"Homer.png\")\n"
   ]
  },
  {
   "cell_type": "code",
   "execution_count": null,
   "metadata": {},
   "outputs": [],
   "source": [
    "a.forget(\"Lisa.png\")"
   ]
  },
  {
   "cell_type": "code",
   "execution_count": null,
   "metadata": {},
   "outputs": [],
   "source": [
    "a.forget(\"Bart2.png\")"
   ]
  },
  {
   "cell_type": "code",
   "execution_count": 57,
   "metadata": {},
   "outputs": [],
   "source": [
    "x1=np.array([1,1,1])"
   ]
  },
  {
   "cell_type": "code",
   "execution_count": 64,
   "metadata": {},
   "outputs": [
    {
     "name": "stdout",
     "output_type": "stream",
     "text": [
      "3\n",
      "[[ 1 -1 -1]\n",
      " [-1  1  1]\n",
      " [-1  1  1]]\n",
      "Norm 3.000000 \n"
     ]
    }
   ],
   "source": [
    "NN=hopfield(x2)"
   ]
  },
  {
   "cell_type": "code",
   "execution_count": 65,
   "metadata": {},
   "outputs": [
    {
     "name": "stdout",
     "output_type": "stream",
     "text": [
      "Wp:\n",
      "[[ 1 -1 -1]\n",
      " [-1  1  1]\n",
      " [-1  1  1]]\n",
      "w:\n",
      "[ 3.00000000e+00  6.16297582e-33 -7.50963641e-17]\n",
      "v:\n",
      "[[ 5.77350269e-01  6.51147040e-17 -6.09781659e-01]\n",
      " [-5.77350269e-01 -7.07106781e-01 -7.75129861e-01]\n",
      " [-5.77350269e-01  7.07106781e-01  1.65348202e-01]]\n"
     ]
    }
   ],
   "source": [
    "NN.W_p()"
   ]
  },
  {
   "cell_type": "code",
   "execution_count": 67,
   "metadata": {},
   "outputs": [
    {
     "name": "stdout",
     "output_type": "stream",
     "text": [
      "Wp:\n",
      "[[0. 0. 0.]\n",
      " [0. 0. 2.]\n",
      " [0. 2. 0.]]\n",
      "w:\n",
      "[ 2. -2.  0.]\n",
      "v:\n",
      "[[ 0.          0.          1.        ]\n",
      " [ 0.70710678  0.70710678  0.        ]\n",
      " [ 0.70710678 -0.70710678  0.        ]]\n"
     ]
    }
   ],
   "source": [
    "NN.W_p()"
   ]
  },
  {
   "cell_type": "code",
   "execution_count": null,
   "metadata": {},
   "outputs": [],
   "source": [
    "NN.size()"
   ]
  },
  {
   "cell_type": "code",
   "execution_count": 63,
   "metadata": {},
   "outputs": [],
   "source": [
    "x2=np.array([-1,1,1])"
   ]
  },
  {
   "cell_type": "code",
   "execution_count": 66,
   "metadata": {},
   "outputs": [
    {
     "name": "stdout",
     "output_type": "stream",
     "text": [
      "W3:\n",
      "[[2 0 0]\n",
      " [0 2 2]\n",
      " [0 2 2]]\n",
      "WL:\n",
      "[[2. 0. 0.]\n",
      " [0. 2. 0.]\n",
      " [0. 0. 2.]]\n",
      "Wp:\n",
      "[[0. 0. 0.]\n",
      " [0. 0. 2.]\n",
      " [0. 2. 0.]]\n",
      "Norm 2.828427 \n"
     ]
    }
   ],
   "source": [
    "NN.update(x1)"
   ]
  },
  {
   "cell_type": "code",
   "execution_count": 45,
   "metadata": {},
   "outputs": [],
   "source": [
    "input= np.array([1,1,1 ,-1])"
   ]
  },
  {
   "cell_type": "code",
   "execution_count": 68,
   "metadata": {},
   "outputs": [
    {
     "name": "stdout",
     "output_type": "stream",
     "text": [
      "[0. 2. 2.]\n",
      "[-1.  1.  1.]\n",
      "Distancia: 1.732051 \n",
      "[-1.  1.  1.]\n",
      "[-1.  1.  1.]\n",
      "Distancia: 0.000000 \n",
      "[-1.  1.  1.]\n"
     ]
    }
   ],
   "source": [
    "NN.query(x1)"
   ]
  },
  {
   "cell_type": "code",
   "execution_count": null,
   "metadata": {},
   "outputs": [],
   "source": [
    "input= np.array([1,1,-1 ,-1])"
   ]
  },
  {
   "cell_type": "code",
   "execution_count": null,
   "metadata": {},
   "outputs": [],
   "source": [
    "NN.query(input)"
   ]
  },
  {
   "cell_type": "code",
   "execution_count": 29,
   "metadata": {},
   "outputs": [
    {
     "name": "stdout",
     "output_type": "stream",
     "text": [
      "Wp:\n",
      "[[ 1  1  1  1 -1  1  1  1  1]\n",
      " [ 1  1  1  1 -1  1  1  1  1]\n",
      " [ 1  1  1  1 -1  1  1  1  1]\n",
      " [ 1  1  1  1 -1  1  1  1  1]\n",
      " [-1 -1 -1 -1  1 -1 -1 -1 -1]\n",
      " [ 1  1  1  1 -1  1  1  1  1]\n",
      " [ 1  1  1  1 -1  1  1  1  1]\n",
      " [ 1  1  1  1 -1  1  1  1  1]\n",
      " [ 1  1  1  1 -1  1  1  1  1]]\n",
      "w:\n",
      "[ 0.00000000e+00  9.00000000e+00 -5.55111512e-17  3.03269024e-31\n",
      " -1.40960244e-32  1.89510559e-33  4.85113887e-50 -7.11883232e-67\n",
      "  3.04569343e-65]\n",
      "v:\n",
      "[[-0.94280904  0.33333333  0.11785113  0.09878024 -0.71433595 -0.92389979\n",
      "  -0.92613664  0.94280904  0.94280904]\n",
      " [ 0.11785113  0.33333333  0.11785113 -0.01234753  0.08929199  0.11548747\n",
      "   0.11576708 -0.11785113 -0.11785113]\n",
      " [ 0.11785113  0.33333333  0.11785113  0.07645537  0.39988447  0.20164263\n",
      "   0.11576708 -0.11785113 -0.11785113]\n",
      " [ 0.11785113  0.33333333  0.11785113  0.27241748 -0.42557341  0.25720435\n",
      "   0.11576708 -0.11785113 -0.11785113]\n",
      " [-0.11785113 -0.33333333 -0.11785113 -0.12176119 -0.18308055 -0.06037679\n",
      "   0.0463782   0.11785113  0.11785113]\n",
      " [ 0.11785113  0.33333333  0.11785113  0.12176119  0.18308055  0.06037679\n",
      "   0.16981551 -0.11785113 -0.11785113]\n",
      " [ 0.11785113  0.33333333  0.11785113  0.12176119  0.18308055  0.06037679\n",
      "   0.16981551 -0.11785113 -0.11785113]\n",
      " [ 0.11785113  0.33333333  0.11785113  0.12176119  0.18308055  0.06037679\n",
      "   0.16981551 -0.11785113 -0.11785113]\n",
      " [ 0.11785113  0.33333333 -0.94280904 -0.92235034 -0.0815893   0.10805819\n",
      "   0.11576708 -0.11785113 -0.11785113]]\n"
     ]
    }
   ],
   "source": [
    "NN.W_p()"
   ]
  },
  {
   "cell_type": "code",
   "execution_count": null,
   "metadata": {},
   "outputs": [],
   "source": [
    "input= np.array([1,1,1 ,-1])"
   ]
  },
  {
   "cell_type": "code",
   "execution_count": 34,
   "metadata": {},
   "outputs": [
    {
     "name": "stdout",
     "output_type": "stream",
     "text": [
      "9\n",
      "x2:\n",
      "[ 1  1  1  1 -1  1  1  1  1]\n",
      "Wp:\n",
      "[[0. 0. 0. 0. 0. 0. 0. 0. 0.]\n",
      " [0. 0. 0. 0. 0. 0. 0. 0. 0.]\n",
      " [0. 0. 0. 0. 0. 0. 0. 0. 0.]\n",
      " [0. 0. 0. 0. 0. 0. 0. 0. 0.]\n",
      " [0. 0. 0. 0. 0. 0. 0. 0. 0.]\n",
      " [0. 0. 0. 0. 0. 0. 0. 0. 0.]\n",
      " [0. 0. 0. 0. 0. 0. 0. 0. 0.]\n",
      " [0. 0. 0. 0. 0. 0. 0. 0. 0.]\n",
      " [0. 0. 0. 0. 0. 0. 0. 0. 0.]]\n",
      "Norm 0.000000 \n"
     ]
    }
   ],
   "source": [
    "NN.forget(x1)"
   ]
  },
  {
   "cell_type": "code",
   "execution_count": 20,
   "metadata": {},
   "outputs": [
    {
     "name": "stdout",
     "output_type": "stream",
     "text": [
      "9\n",
      "[[ 1 -1 -1 -1  1 -1  1 -1 -1]\n",
      " [-1  1  1  1 -1  1 -1  1  1]\n",
      " [-1  1  1  1 -1  1 -1  1  1]\n",
      " [-1  1  1  1 -1  1 -1  1  1]\n",
      " [ 1 -1 -1 -1  1 -1  1 -1 -1]\n",
      " [-1  1  1  1 -1  1 -1  1  1]\n",
      " [ 1 -1 -1 -1  1 -1  1 -1 -1]\n",
      " [-1  1  1  1 -1  1 -1  1  1]\n",
      " [-1  1  1  1 -1  1 -1  1  1]]\n",
      "Norm 9.000000 \n"
     ]
    }
   ],
   "source": [
    "NN=hopfield(x2)"
   ]
  },
  {
   "cell_type": "code",
   "execution_count": 35,
   "metadata": {},
   "outputs": [
    {
     "name": "stdout",
     "output_type": "stream",
     "text": [
      "Wp:\n",
      "[[0. 0. 0. 0. 0. 0. 0. 0. 0.]\n",
      " [0. 0. 0. 0. 0. 0. 0. 0. 0.]\n",
      " [0. 0. 0. 0. 0. 0. 0. 0. 0.]\n",
      " [0. 0. 0. 0. 0. 0. 0. 0. 0.]\n",
      " [0. 0. 0. 0. 0. 0. 0. 0. 0.]\n",
      " [0. 0. 0. 0. 0. 0. 0. 0. 0.]\n",
      " [0. 0. 0. 0. 0. 0. 0. 0. 0.]\n",
      " [0. 0. 0. 0. 0. 0. 0. 0. 0.]\n",
      " [0. 0. 0. 0. 0. 0. 0. 0. 0.]]\n",
      "w:\n",
      "[0. 0. 0. 0. 0. 0. 0. 0. 0.]\n",
      "v:\n",
      "[[1. 0. 0. 0. 0. 0. 0. 0. 0.]\n",
      " [0. 1. 0. 0. 0. 0. 0. 0. 0.]\n",
      " [0. 0. 1. 0. 0. 0. 0. 0. 0.]\n",
      " [0. 0. 0. 1. 0. 0. 0. 0. 0.]\n",
      " [0. 0. 0. 0. 1. 0. 0. 0. 0.]\n",
      " [0. 0. 0. 0. 0. 1. 0. 0. 0.]\n",
      " [0. 0. 0. 0. 0. 0. 1. 0. 0.]\n",
      " [0. 0. 0. 0. 0. 0. 0. 1. 0.]\n",
      " [0. 0. 0. 0. 0. 0. 0. 0. 1.]]\n"
     ]
    }
   ],
   "source": [
    "NN.W_p()"
   ]
  },
  {
   "cell_type": "code",
   "execution_count": 36,
   "metadata": {},
   "outputs": [
    {
     "name": "stdout",
     "output_type": "stream",
     "text": [
      "W3:\n",
      "[[ 1. -1. -1. -1.  1. -1.  1. -1. -1.]\n",
      " [-1.  1.  1.  1. -1.  1. -1.  1.  1.]\n",
      " [-1.  1.  1.  1. -1.  1. -1.  1.  1.]\n",
      " [-1.  1.  1.  1. -1.  1. -1.  1.  1.]\n",
      " [ 1. -1. -1. -1.  1. -1.  1. -1. -1.]\n",
      " [-1.  1.  1.  1. -1.  1. -1.  1.  1.]\n",
      " [ 1. -1. -1. -1.  1. -1.  1. -1. -1.]\n",
      " [-1.  1.  1.  1. -1.  1. -1.  1.  1.]\n",
      " [-1.  1.  1.  1. -1.  1. -1.  1.  1.]]\n",
      "WL:\n",
      "[[1. 0. 0. 0. 0. 0. 0. 0. 0.]\n",
      " [0. 1. 0. 0. 0. 0. 0. 0. 0.]\n",
      " [0. 0. 1. 0. 0. 0. 0. 0. 0.]\n",
      " [0. 0. 0. 1. 0. 0. 0. 0. 0.]\n",
      " [0. 0. 0. 0. 1. 0. 0. 0. 0.]\n",
      " [0. 0. 0. 0. 0. 1. 0. 0. 0.]\n",
      " [0. 0. 0. 0. 0. 0. 1. 0. 0.]\n",
      " [0. 0. 0. 0. 0. 0. 0. 1. 0.]\n",
      " [0. 0. 0. 0. 0. 0. 0. 0. 1.]]\n",
      "Wp:\n",
      "[[ 0. -1. -1. -1.  1. -1.  1. -1. -1.]\n",
      " [-1.  0.  1.  1. -1.  1. -1.  1.  1.]\n",
      " [-1.  1.  0.  1. -1.  1. -1.  1.  1.]\n",
      " [-1.  1.  1.  0. -1.  1. -1.  1.  1.]\n",
      " [ 1. -1. -1. -1.  0. -1.  1. -1. -1.]\n",
      " [-1.  1.  1.  1. -1.  0. -1.  1.  1.]\n",
      " [ 1. -1. -1. -1.  1. -1.  0. -1. -1.]\n",
      " [-1.  1.  1.  1. -1.  1. -1.  0.  1.]\n",
      " [-1.  1.  1.  1. -1.  1. -1.  1.  0.]]\n",
      "Norm 8.485281 \n"
     ]
    }
   ],
   "source": [
    "NN.update(x2)"
   ]
  },
  {
   "cell_type": "code",
   "execution_count": 37,
   "metadata": {},
   "outputs": [
    {
     "name": "stdout",
     "output_type": "stream",
     "text": [
      "Wp:\n",
      "[[ 0. -1. -1. -1.  1. -1.  1. -1. -1.]\n",
      " [-1.  0.  1.  1. -1.  1. -1.  1.  1.]\n",
      " [-1.  1.  0.  1. -1.  1. -1.  1.  1.]\n",
      " [-1.  1.  1.  0. -1.  1. -1.  1.  1.]\n",
      " [ 1. -1. -1. -1.  0. -1.  1. -1. -1.]\n",
      " [-1.  1.  1.  1. -1.  0. -1.  1.  1.]\n",
      " [ 1. -1. -1. -1.  1. -1.  0. -1. -1.]\n",
      " [-1.  1.  1.  1. -1.  1. -1.  0.  1.]\n",
      " [-1.  1.  1.  1. -1.  1. -1.  1.  0.]]\n",
      "w:\n",
      "[-1.+0.00000000e+00j  8.+0.00000000e+00j -1.+0.00000000e+00j\n",
      " -1.+0.00000000e+00j -1.+0.00000000e+00j -1.+7.72473569e-17j\n",
      " -1.-7.72473569e-17j -1.+0.00000000e+00j -1.+0.00000000e+00j]\n",
      "v:\n",
      "[[-0.94280904+0.j         -0.33333333+0.j         -0.04854624+0.j\n",
      "   0.00322447+0.j         -0.00803441+0.j         -0.00959084-0.01671721j\n",
      "  -0.00959084+0.01671721j -0.00603266+0.j         -0.00299975+0.j        ]\n",
      " [-0.11785113+0.j          0.33333333+0.j          0.89850236+0.j\n",
      "  -0.06718928+0.j          0.27969535+0.j          0.15041744+0.3249477j\n",
      "   0.15041744-0.3249477j   0.13975548+0.j         -0.01434868+0.j        ]\n",
      " [-0.11785113+0.j          0.33333333+0.j         -0.09680702+0.j\n",
      "   0.08441983+0.j         -0.74408537+0.j          0.16851109+0.38909882j\n",
      "   0.16851109-0.38909882j -0.25105625+0.j         -0.04240956+0.j        ]\n",
      " [-0.11785113+0.j          0.33333333+0.j         -0.09680702+0.j\n",
      "   0.58360521+0.j          0.43102702+0.j         -0.00467085+0.10941239j\n",
      "  -0.00467085-0.10941239j -0.09157202+0.j         -0.02427998+0.j        ]\n",
      " [ 0.11785113+0.j         -0.33333333+0.j          0.09680702+0.j\n",
      "  -0.05023133+0.j          0.09036235+0.j          0.6271622 +0.j\n",
      "   0.6271622 -0.j          0.19885084+0.j          0.04978047+0.j        ]\n",
      " [-0.11785113+0.j          0.33333333+0.j         -0.09680702+0.j\n",
      "   0.05023133+0.j         -0.09036235+0.j          0.06091721-0.29253209j\n",
      "   0.06091721+0.29253209j -0.51506764+0.j         -0.13701448+0.j        ]\n",
      " [ 0.11785113+0.j         -0.33333333+0.j          0.09680702+0.j\n",
      "  -0.05023133+0.j          0.09036235+0.j         -0.08308691+0.29614006j\n",
      "  -0.08308691-0.29614006j -0.66050291+0.j          0.54615322+0.j        ]\n",
      " [-0.11785113+0.j          0.33333333+0.j         -0.09680702+0.j\n",
      "   0.05023133+0.j         -0.09036235+0.j          0.08308691-0.29614006j\n",
      "   0.08308691+0.29614006j  0.38647335+0.j          0.82323305+0.j        ]\n",
      " [-0.11785113+0.j          0.33333333+0.j         -0.36620648+0.j\n",
      "  -0.7985366 +0.j          0.386778  +0.j          0.07622264+0.04463608j\n",
      "   0.07622264-0.04463608j -0.13621765+0.j         -0.0122464 +0.j        ]]\n"
     ]
    }
   ],
   "source": [
    "NN.W_p()"
   ]
  },
  {
   "cell_type": "code",
   "execution_count": 24,
   "metadata": {},
   "outputs": [
    {
     "name": "stdout",
     "output_type": "stream",
     "text": [
      "W3:\n",
      "[[ 1. -1. -1. -1.  1. -1.  3. -1. -1.]\n",
      " [-1.  1.  3.  3. -3.  3. -1.  3.  3.]\n",
      " [-1.  3.  1.  3. -3.  3. -1.  3.  3.]\n",
      " [-1.  3.  3.  1. -3.  3. -1.  3.  3.]\n",
      " [ 1. -3. -3. -3.  1. -3.  1. -3. -3.]\n",
      " [-1.  3.  3.  3. -3.  1. -1.  3.  3.]\n",
      " [ 3. -1. -1. -1.  1. -1.  1. -1. -1.]\n",
      " [-1.  3.  3.  3. -3.  3. -1.  1.  3.]\n",
      " [-1.  3.  3.  3. -3.  3. -1.  3.  1.]]\n",
      "WL:\n",
      "[[1. 0. 0. 0. 0. 0. 0. 0. 0.]\n",
      " [0. 1. 0. 0. 0. 0. 0. 0. 0.]\n",
      " [0. 0. 1. 0. 0. 0. 0. 0. 0.]\n",
      " [0. 0. 0. 1. 0. 0. 0. 0. 0.]\n",
      " [0. 0. 0. 0. 1. 0. 0. 0. 0.]\n",
      " [0. 0. 0. 0. 0. 1. 0. 0. 0.]\n",
      " [0. 0. 0. 0. 0. 0. 1. 0. 0.]\n",
      " [0. 0. 0. 0. 0. 0. 0. 1. 0.]\n",
      " [0. 0. 0. 0. 0. 0. 0. 0. 1.]]\n",
      "Wp:\n",
      "[[ 0. -1. -1. -1.  1. -1.  3. -1. -1.]\n",
      " [-1.  0.  3.  3. -3.  3. -1.  3.  3.]\n",
      " [-1.  3.  0.  3. -3.  3. -1.  3.  3.]\n",
      " [-1.  3.  3.  0. -3.  3. -1.  3.  3.]\n",
      " [ 1. -3. -3. -3.  0. -3.  1. -3. -3.]\n",
      " [-1.  3.  3.  3. -3.  0. -1.  3.  3.]\n",
      " [ 3. -1. -1. -1.  1. -1.  0. -1. -1.]\n",
      " [-1.  3.  3.  3. -3.  3. -1.  0.  3.]\n",
      " [-1.  3.  3.  3. -3.  3. -1.  3.  0.]]\n",
      "Norm 20.591260 \n"
     ]
    }
   ],
   "source": [
    "NN.update(x1)"
   ]
  },
  {
   "cell_type": "code",
   "execution_count": 39,
   "metadata": {},
   "outputs": [
    {
     "name": "stdout",
     "output_type": "stream",
     "text": [
      "Wp:\n",
      "[[ 0. -1. -1. -1.  1. -1.  1. -1. -1.]\n",
      " [-1.  0.  1.  1. -1.  1. -1.  1.  1.]\n",
      " [-1.  1.  0.  1. -1.  1. -1.  1.  1.]\n",
      " [-1.  1.  1.  0. -1.  1. -1.  1.  1.]\n",
      " [ 1. -1. -1. -1.  0. -1.  1. -1. -1.]\n",
      " [-1.  1.  1.  1. -1.  0. -1.  1.  1.]\n",
      " [ 1. -1. -1. -1.  1. -1.  0. -1. -1.]\n",
      " [-1.  1.  1.  1. -1.  1. -1.  0.  1.]\n",
      " [-1.  1.  1.  1. -1.  1. -1.  1.  0.]]\n",
      "w:\n",
      "[-1.+0.00000000e+00j  8.+0.00000000e+00j -1.+0.00000000e+00j\n",
      " -1.+0.00000000e+00j -1.+0.00000000e+00j -1.+7.72473569e-17j\n",
      " -1.-7.72473569e-17j -1.+0.00000000e+00j -1.+0.00000000e+00j]\n",
      "v:\n",
      "[[-0.94280904+0.j         -0.33333333+0.j         -0.04854624+0.j\n",
      "   0.00322447+0.j         -0.00803441+0.j         -0.00959084-0.01671721j\n",
      "  -0.00959084+0.01671721j -0.00603266+0.j         -0.00299975+0.j        ]\n",
      " [-0.11785113+0.j          0.33333333+0.j          0.89850236+0.j\n",
      "  -0.06718928+0.j          0.27969535+0.j          0.15041744+0.3249477j\n",
      "   0.15041744-0.3249477j   0.13975548+0.j         -0.01434868+0.j        ]\n",
      " [-0.11785113+0.j          0.33333333+0.j         -0.09680702+0.j\n",
      "   0.08441983+0.j         -0.74408537+0.j          0.16851109+0.38909882j\n",
      "   0.16851109-0.38909882j -0.25105625+0.j         -0.04240956+0.j        ]\n",
      " [-0.11785113+0.j          0.33333333+0.j         -0.09680702+0.j\n",
      "   0.58360521+0.j          0.43102702+0.j         -0.00467085+0.10941239j\n",
      "  -0.00467085-0.10941239j -0.09157202+0.j         -0.02427998+0.j        ]\n",
      " [ 0.11785113+0.j         -0.33333333+0.j          0.09680702+0.j\n",
      "  -0.05023133+0.j          0.09036235+0.j          0.6271622 +0.j\n",
      "   0.6271622 -0.j          0.19885084+0.j          0.04978047+0.j        ]\n",
      " [-0.11785113+0.j          0.33333333+0.j         -0.09680702+0.j\n",
      "   0.05023133+0.j         -0.09036235+0.j          0.06091721-0.29253209j\n",
      "   0.06091721+0.29253209j -0.51506764+0.j         -0.13701448+0.j        ]\n",
      " [ 0.11785113+0.j         -0.33333333+0.j          0.09680702+0.j\n",
      "  -0.05023133+0.j          0.09036235+0.j         -0.08308691+0.29614006j\n",
      "  -0.08308691-0.29614006j -0.66050291+0.j          0.54615322+0.j        ]\n",
      " [-0.11785113+0.j          0.33333333+0.j         -0.09680702+0.j\n",
      "   0.05023133+0.j         -0.09036235+0.j          0.08308691-0.29614006j\n",
      "   0.08308691+0.29614006j  0.38647335+0.j          0.82323305+0.j        ]\n",
      " [-0.11785113+0.j          0.33333333+0.j         -0.36620648+0.j\n",
      "  -0.7985366 +0.j          0.386778  +0.j          0.07622264+0.04463608j\n",
      "   0.07622264-0.04463608j -0.13621765+0.j         -0.0122464 +0.j        ]]\n"
     ]
    }
   ],
   "source": [
    "NN.W_p()"
   ]
  },
  {
   "cell_type": "code",
   "execution_count": null,
   "metadata": {},
   "outputs": [],
   "source": []
  }
 ],
 "metadata": {
  "kernelspec": {
   "display_name": "Python 3",
   "language": "python",
   "name": "python3"
  },
  "language_info": {
   "codemirror_mode": {
    "name": "ipython",
    "version": 3
   },
   "file_extension": ".py",
   "mimetype": "text/x-python",
   "name": "python",
   "nbconvert_exporter": "python",
   "pygments_lexer": "ipython3",
   "version": "3.8.7"
  }
 },
 "nbformat": 4,
 "nbformat_minor": 4
}
